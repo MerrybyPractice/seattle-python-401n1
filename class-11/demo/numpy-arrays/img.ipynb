{
 "nbformat": 4,
 "nbformat_minor": 2,
 "metadata": {
  "language_info": {
   "name": "python",
   "codemirror_mode": {
    "name": "ipython",
    "version": 3
   },
   "version": "3.7.5-final"
  },
  "orig_nbformat": 2,
  "file_extension": ".py",
  "mimetype": "text/x-python",
  "name": "python",
  "npconvert_exporter": "python",
  "pygments_lexer": "ipython3",
  "version": 3,
  "kernelspec": {
   "name": "python37564bitvenvvenvc8a2900bd4e24e159ac78abce93c012d",
   "display_name": "Python 3.7.5 64-bit ('.venv': venv)"
  }
 },
 "cells": [
  {
   "cell_type": "markdown",
   "metadata": {},
   "source": [
    "# Images are just Arrays!"
   ],
   "execution_count": null,
   "outputs": []
  },
  {
   "cell_type": "code",
   "execution_count": null,
   "metadata": {},
   "outputs": [],
   "source": [
    "%matplotlib inline\n",
    "import matplotlib.pyplot as plt\n",
    "import matplotlib.image as mpimg\n",
    "import numpy as np\n",
    "from random import random"
   ]
  },
  {
   "cell_type": "code",
   "execution_count": null,
   "metadata": {},
   "outputs": [],
   "source": [
    "img = mpimg.imread('./onion.png')\n",
    "print('length, aka number of rows:', len(img))\n",
    "print('height, aka number of columns in each row:', len(img[0]))\n",
    "print('depth, in this case the color channels', len(img[0][0]))\n",
    "print('Easier just to ask for the shape', img.shape)"
   ]
  },
  {
   "cell_type": "markdown",
   "metadata": {},
   "source": [
    "## Render image\n",
    "We'll learn more about Matplotlib later, for now just feed it the array/image and behold"
   ],
   "execution_count": null,
   "outputs": []
  },
  {
   "cell_type": "code",
   "execution_count": null,
   "metadata": {},
   "outputs": [],
   "source": [
    "imgplot = plt.imshow(img)"
   ]
  },
  {
   "cell_type": "code",
   "execution_count": null,
   "metadata": {},
   "outputs": [],
   "source": [
    "dom_v = np.vectorize(lambda val : round(val))\n",
    "extreme_img = dom_v(img)\n",
    "plt.imshow(extreme_img)"
   ]
  },
  {
   "cell_type": "code",
   "execution_count": null,
   "metadata": {},
   "outputs": [],
   "source": [
    "def rgb2gray(rgb):\n",
    "    return np.dot(rgb[...,:3], [0.299, 0.587, 0.114])\n",
    "\n",
    "img = mpimg.imread('onion.png')     \n",
    "gray = rgb2gray(img)    \n",
    "plt.imshow(gray, cmap = plt.get_cmap('gray'))\n",
    "plt.show()"
   ]
  },
  {
   "cell_type": "code",
   "execution_count": null,
   "metadata": {},
   "outputs": [],
   "source": [
    "img = mpimg.imread('./onion.png')\n",
    "img = img * [0,1,0,1]\n",
    "plt.imshow(img)"
   ]
  },
  {
   "cell_type": "code",
   "execution_count": null,
   "metadata": {},
   "outputs": [],
   "source": [
    "# small = np.array([[1,2],[3,4]])\n",
    "# small = np.array([[1,2,3],[4,5,6],[7,8,9]])\n",
    "# small = np.array([\n",
    "#     [1,2,3,4],\n",
    "#     [5,6,7,8],\n",
    "#     [9,10,11,12],\n",
    "#     [13,14,15,16]\n",
    "# ])\n",
    "\n",
    "small = np.array([\n",
    "    [1,2,3],\n",
    "    [4,5,6]\n",
    "])\n",
    "\n",
    "def double_size(small):\n",
    "    big_height = small.shape[0] * 2\n",
    "    big_width = small.shape[1] * 2\n",
    "\n",
    "    big = np.zeros((big_height, big_width), dtype=small.dtype)\n",
    "\n",
    "    for row in range(big_height):\n",
    "        for column in range(big_width):\n",
    "            big[row][column] = small[row//2][column//2]\n",
    "\n",
    "    return big\n",
    "\n",
    "print(np.matrix(small))\n",
    "print(np.matrix(double_size(small)))"
   ]
  },
  {
   "cell_type": "code",
   "execution_count": null,
   "metadata": {},
   "outputs": [],
   "source": [
    "def double_rgba(small):\n",
    "    new_h = small.shape[0] * 2\n",
    "    new_w = small.shape[1] * 2\n",
    "    new_d = small.shape[2] # don't double depth because that's the color channel\n",
    "\n",
    "    big = np.ones((new_h, new_w, new_d))\n",
    "\n",
    "    for row in np.arange(new_h):\n",
    "        small_row = row // 2\n",
    "        for column in np.arange(new_w):\n",
    "            small_column = column // 2\n",
    "            for channel in np.arange(new_d):\n",
    "                big[row][column][channel] = small[small_row][small_column][channel]\n",
    "\n",
    "    return big\n",
    "\n"
   ]
  },
  {
   "cell_type": "code",
   "execution_count": null,
   "metadata": {},
   "outputs": [],
   "source": [
    "def embiggen(small, factor=2):\n",
    "    \n",
    "    big = []\n",
    "\n",
    "    for row in small:\n",
    "        \n",
    "        new_row = []\n",
    "        \n",
    "        for _ in range(factor):\n",
    "            big.append(new_row)\n",
    "        \n",
    "        for column in row:\n",
    "\n",
    "            for _ in range(factor):\n",
    "                new_row.append(column)\n",
    "            \n",
    "    return np.array(big)\n",
    "\n",
    "\n",
    "\"\"\"\n",
    "embiggen will enlarge a matrix by given factor (default 2)\n",
    "\n",
    "a b        a a b b\n",
    "c d   ->   a a b b\n",
    "           c c d d\n",
    "           c c d d\n",
    "\"\"\"\n",
    "two_by_two = [['a','b'],['c','d']]\n",
    "\n",
    "embiggen(two_by_two)\n",
    "\n"
   ]
  },
  {
   "cell_type": "code",
   "execution_count": null,
   "metadata": {},
   "outputs": [],
   "source": [
    "def biggify(mat, factor=2):\n",
    "    return np.repeat(np.repeat(mat,factor,axis=0),factor,axis=1)"
   ]
  },
  {
   "cell_type": "code",
   "execution_count": null,
   "metadata": {},
   "outputs": [],
   "source": [
    "plt.imshow(img)"
   ]
  },
  {
   "cell_type": "code",
   "execution_count": null,
   "metadata": {},
   "outputs": [],
   "source": [
    "%timeit pass\n",
    "biggified = biggify(img,2)\n",
    "plt.imshow(biggified)\n"
   ]
  },
  {
   "cell_type": "code",
   "execution_count": null,
   "metadata": {},
   "outputs": [],
   "source": [
    "cube = np.random.uniform(size=(3,3,4))\n",
    "plt.imshow(cube)"
   ]
  },
  {
   "cell_type": "markdown",
   "metadata": {},
   "source": [
    "## Vectorize"
   ],
   "execution_count": null,
   "outputs": []
  },
  {
   "cell_type": "code",
   "execution_count": null,
   "metadata": {},
   "outputs": [],
   "source": [
    "cube = np.random.uniform(size=(3,3,4))\n",
    "\n",
    "for row in cube:\n",
    "    for column in cube:\n",
    "        for channel in column:\n",
    "            channel[0] = 1 if channel[0] > .5 else 0\n",
    "            channel[1] = 1 if channel[1] > .5 else 0\n",
    "            channel[2] = 1 if channel[2] > .5 else 0\n",
    "\n",
    "plt.imshow(cube)"
   ]
  },
  {
   "cell_type": "code",
   "execution_count": null,
   "metadata": {},
   "outputs": [],
   "source": [
    "bigger_cube = double_rgba(cube)\n",
    "plt.imshow(bigger_cube)"
   ]
  },
  {
   "cell_type": "code",
   "execution_count": null,
   "metadata": {},
   "outputs": [],
   "source": [
    "doble_cube = embiggen(cube,16)\n",
    "plt.imshow(doble_cube)"
   ]
  },
  {
   "cell_type": "code",
   "execution_count": null,
   "metadata": {},
   "outputs": [],
   "source": [
    "biggie_cube = biggify(cube,8)\n",
    "plt.imshow(biggie_cube)"
   ]
  },
  {
   "cell_type": "code",
   "execution_count": null,
   "metadata": {},
   "outputs": [],
   "source": [
    "bigger_img = double_rgba(img)\n",
    "plt.imshow(bigger_img)"
   ]
  },
  {
   "cell_type": "code",
   "execution_count": null,
   "metadata": {},
   "outputs": [],
   "source": [
    "doble_img = embiggen(img,3)\n",
    "plt.imshow(doble_img)"
   ]
  },
  {
   "cell_type": "code",
   "execution_count": null,
   "metadata": {},
   "outputs": [],
   "source": [
    "from random import random\n",
    "download_img = mpimg.imread('download-now-png-4.png')\n",
    "download_img = download_img * [random(),1,1,1] \n",
    "plt.imshow(download_img)\n"
   ]
  },
  {
   "cell_type": "code",
   "execution_count": null,
   "metadata": {},
   "outputs": [],
   "source": []
  }
 ]
}
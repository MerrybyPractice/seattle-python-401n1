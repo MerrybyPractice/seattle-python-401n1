{
 "cells": [
  {
   "cell_type": "markdown",
   "metadata": {},
   "source": [
    "# Fun with Exceptions"
   ]
  },
  {
   "cell_type": "markdown",
   "metadata": {},
   "source": [
    "Exceptions handle errors that you can't know about until running the application\n",
    "\n",
    "They are different than errors that are known about in advance"
   ]
  },
  {
   "cell_type": "code",
   "execution_count": 1,
   "metadata": {},
   "outputs": [
    {
     "ename": "SyntaxError",
     "evalue": "unmatched ')' (<ipython-input-1-2d1055bcce1a>, line 2)",
     "output_type": "error",
     "traceback": [
      "\u001B[0;36m  File \u001B[0;32m\"<ipython-input-1-2d1055bcce1a>\"\u001B[0;36m, line \u001B[0;32m2\u001B[0m\n\u001B[0;31m    print(\"Too many parentheses\"))\u001B[0m\n\u001B[0m                                 ^\u001B[0m\n\u001B[0;31mSyntaxError\u001B[0m\u001B[0;31m:\u001B[0m unmatched ')'\n"
     ]
    }
   ],
   "source": [
    "print(\"let's do something totally wrong. See if you can spot me in the output!\")\n",
    "print(\"Too many parentheses\"))"
   ]
  },
  {
   "cell_type": "code",
   "execution_count": 2,
   "metadata": {},
   "outputs": [
    {
     "ename": "SyntaxError",
     "evalue": "invalid syntax (<ipython-input-2-47e4ac30efa3>, line 2)",
     "output_type": "error",
     "traceback": [
      "\u001B[0;36m  File \u001B[0;32m\"<ipython-input-2-47e4ac30efa3>\"\u001B[0;36m, line \u001B[0;32m2\u001B[0m\n\u001B[0;31m    print(\"Who has ever \"messed up\" quotations marks?\")\u001B[0m\n\u001B[0m                         ^\u001B[0m\n\u001B[0;31mSyntaxError\u001B[0m\u001B[0;31m:\u001B[0m invalid syntax\n"
     ]
    }
   ],
   "source": [
    "print(\"More wrongness. Do I get printed?\")\n",
    "print(\"Who has ever \"messed up\" quotations marks?\")"
   ]
  },
  {
   "cell_type": "markdown",
   "metadata": {},
   "source": [
    "Notice how both failed to execute AND didn't show the initial print.\n",
    "\n",
    "That's what happens with syntax errors.\n",
    "\n",
    "But how about logical errors that ARE syntactically correct?"
   ]
  },
  {
   "cell_type": "code",
   "execution_count": 3,
   "metadata": {},
   "outputs": [
    {
     "name": "stdout",
     "output_type": "stream",
     "text": [
      "What happens now? Do you see me printed?\n"
     ]
    },
    {
     "ename": "ZeroDivisionError",
     "evalue": "division by zero",
     "output_type": "error",
     "traceback": [
      "\u001B[0;31m---------------------------------------------------------------------------\u001B[0m",
      "\u001B[0;31mZeroDivisionError\u001B[0m                         Traceback (most recent call last)",
      "\u001B[0;32m<ipython-input-3-c30943fb46aa>\u001B[0m in \u001B[0;36m<module>\u001B[0;34m\u001B[0m\n\u001B[1;32m      1\u001B[0m \u001B[0mprint\u001B[0m\u001B[0;34m(\u001B[0m\u001B[0;34m\"What happens now? Do you see me printed?\"\u001B[0m\u001B[0;34m)\u001B[0m\u001B[0;34m\u001B[0m\u001B[0;34m\u001B[0m\u001B[0m\n\u001B[0;32m----> 2\u001B[0;31m \u001B[0mvalue\u001B[0m \u001B[0;34m=\u001B[0m \u001B[0;36m1\u001B[0m\u001B[0;34m/\u001B[0m\u001B[0;36m0\u001B[0m\u001B[0;34m\u001B[0m\u001B[0;34m\u001B[0m\u001B[0m\n\u001B[0m",
      "\u001B[0;31mZeroDivisionError\u001B[0m: division by zero"
     ]
    }
   ],
   "source": [
    "print(\"What happens now? Do you see me printed?\")\n",
    "value = 1/0"
   ]
  },
  {
   "cell_type": "markdown",
   "metadata": {},
   "source": [
    "Got a ZeroDivisionError at runtime\n",
    "\n",
    "Notice intial print DID display this time\n",
    "\n",
    "Check out the error\n",
    "\n",
    "Getting a descriptive error is good\n",
    "\n",
    "WAY better than getting a non-descriptive or even non-existent one\n",
    "\n",
    "So always pay attention to anything an error is telling you"
   ]
  },
  {
   "cell_type": "code",
   "execution_count": 4,
   "metadata": {},
   "outputs": [
    {
     "name": "stdout",
     "output_type": "stream",
     "text": [
      "Don't divide by zero silly.\n",
      "handled the exception above, carrying on\n"
     ]
    }
   ],
   "source": [
    "# You can handle these errors in your code\n",
    "\n",
    "try:\n",
    "    print(\"Divide by zero again\", 1 / 0)\n",
    "except ZeroDivisionError:\n",
    "    print(\"Don't divide by zero silly.\")\n",
    "\n",
    "print(\"handled the exception above, carrying on\")"
   ]
  },
  {
   "cell_type": "markdown",
   "metadata": {},
   "source": [
    "Notice that we \"caught\" a specific exception.\n",
    "It is a best practice to only catch specific exceptions\n",
    "\n",
    "To put it another way\n",
    "it is a VERY BAD THING to catch generic exceptions\n",
    "Here is why that's considered an anti-pattern\n",
    "\n"
   ]
  },
  {
   "cell_type": "code",
   "execution_count": 7,
   "metadata": {},
   "outputs": [
    {
     "name": "stdout",
     "output_type": "stream",
     "text": [
      "Don't divide by zero silly.\n",
      "Total lie!. The problem was not dividing by zero. It was a type error\n"
     ]
    }
   ],
   "source": [
    "try:\n",
    "    print(\"Divide by zero again\", 1 / \"spam\")\n",
    "except:\n",
    "    print(\"Don't divide by zero silly.\")\n",
    "\n",
    "print(\"Total lie!. The problem was not dividing by zero. It was a type error\")"
   ]
  },
  {
   "cell_type": "code",
   "execution_count": 8,
   "metadata": {},
   "outputs": [
    {
     "name": "stdout",
     "output_type": "stream",
     "text": [
      "Don't divide by zero silly.\n",
      "Still wrong. Handling the base Exception is a 'catch all'\n"
     ]
    }
   ],
   "source": [
    "# variation on previous step\n",
    "\n",
    "try:\n",
    "    print(\"Divide by zero again\", 1 / \"spam\")\n",
    "except Exception:\n",
    "    print(\"Don't divide by zero silly.\")\n",
    "\n",
    "print(\"Still wrong. Handling the base Exception is a 'catch all'\")"
   ]
  },
  {
   "cell_type": "markdown",
   "metadata": {},
   "source": [
    "If you must handle every exception then make sure to retain the relevant error info.\n",
    "\n",
    "For example, you may have requirement that end user never sees a program error.\n",
    "\n",
    "In that case make sure to log/record the error details and then present something more palatable to end user"
   ]
  },
  {
   "cell_type": "code",
   "execution_count": 12,
   "metadata": {},
   "outputs": [
    {
     "name": "stdout",
     "output_type": "stream",
     "text": [
      "unsupported operand type(s) for /: 'str' and 'int'\n",
      "So sorry end user. Something broke!\n"
     ]
    }
   ],
   "source": [
    "try:\n",
    "    spam = \"nonsense\" / 42\n",
    "except ZeroDivisionError:\n",
    "    print(\"Don't divide by zero silly.\")\n",
    "except Exception as e:  # notice we can refer to the exception using 'as'\n",
    "    # log the exception somewhere, probably including the stack trace\n",
    "    print(\"So sorry end user. Something broke!\")"
   ]
  },
  {
   "cell_type": "markdown",
   "metadata": {},
   "source": [
    "Python also allows you do a couple more things with exceptions\n",
    "\n",
    "One is an 'else' block which runs when there was NOT an exception\n",
    "This is not that commonly used but every now and then is helpful\n",
    "\n"
   ]
  },
  {
   "cell_type": "code",
   "execution_count": 14,
   "metadata": {},
   "outputs": [
    {
     "name": "stdout",
     "output_type": "stream",
     "text": [
      "Attempting to create message\n",
      "Message successfully created\n"
     ]
    }
   ],
   "source": [
    "print(\"Attempting to create message\")\n",
    "try:\n",
    "    message = \"nothing\" + \"wrong\" + \"here\"\n",
    "except TypeError:\n",
    "    print(\"Unable to create message\")\n",
    "else:\n",
    "    print(\"Message successfully created\")"
   ]
  },
  {
   "cell_type": "markdown",
   "metadata": {},
   "source": [
    "The last piece is the 'finally' block which is run no matter what happened"
   ]
  },
  {
   "cell_type": "code",
   "execution_count": 13,
   "metadata": {},
   "outputs": [
    {
     "name": "stdout",
     "output_type": "stream",
     "text": [
      "prepare for breakage\n",
      "Something broke! Details: unsupported operand type(s) for +: 'bool' and 'str'\n",
      "clean up mess as needed\n"
     ]
    }
   ],
   "source": [
    "print(\"prepare for breakage\")\n",
    "\n",
    "try:\n",
    "    value = True + \" nonsense\"  # change to str(True) and see what happens\n",
    "except TypeError as e:\n",
    "    print(f\"Something broke! Details: {e}\")\n",
    "else:\n",
    "    print(f\"smooth sailing. value is {value}\")\n",
    "finally:\n",
    "    print(\"clean up mess as needed\")"
   ]
  },
  {
   "cell_type": "markdown",
   "metadata": {},
   "source": [
    "you can raise exceptions intentionally as well"
   ]
  },
  {
   "cell_type": "markdown",
   "metadata": {},
   "source": [
    "If there's no better choice can use the Generic Exception"
   ]
  },
  {
   "cell_type": "markdown",
   "metadata": {},
   "source": [
    "It's a best practice to choose the most appropriate type of Error"
   ]
  },
  {
   "cell_type": "code",
   "execution_count": 15,
   "metadata": {},
   "outputs": [
    {
     "ename": "ValueError",
     "evalue": "Invalid age - must be greater than or equal to zero",
     "output_type": "error",
     "traceback": [
      "\u001B[0;31m---------------------------------------------------------------------------\u001B[0m",
      "\u001B[0;31mValueError\u001B[0m                                Traceback (most recent call last)",
      "\u001B[0;32m<ipython-input-15-68bd60ebe3db>\u001B[0m in \u001B[0;36m<module>\u001B[0;34m\u001B[0m\n\u001B[1;32m      2\u001B[0m \u001B[0;34m\u001B[0m\u001B[0m\n\u001B[1;32m      3\u001B[0m \u001B[0;32mif\u001B[0m \u001B[0mage\u001B[0m \u001B[0;34m<\u001B[0m \u001B[0;36m0\u001B[0m\u001B[0;34m:\u001B[0m\u001B[0;34m\u001B[0m\u001B[0;34m\u001B[0m\u001B[0m\n\u001B[0;32m----> 4\u001B[0;31m     \u001B[0;32mraise\u001B[0m \u001B[0mValueError\u001B[0m\u001B[0;34m(\u001B[0m\u001B[0;34m\"Invalid age - must be greater than or equal to zero\"\u001B[0m\u001B[0;34m)\u001B[0m\u001B[0;34m\u001B[0m\u001B[0;34m\u001B[0m\u001B[0m\n\u001B[0m",
      "\u001B[0;31mValueError\u001B[0m: Invalid age - must be greater than or equal to zero"
     ]
    }
   ],
   "source": [
    "age = -10\n",
    "\n",
    "if age < 0:\n",
    "    raise ValueError(\"Invalid age - must be greater than or equal to zero\")"
   ]
  },
  {
   "cell_type": "code",
   "execution_count": 16,
   "metadata": {},
   "outputs": [
    {
     "ename": "Exception",
     "evalue": "Something bad happened",
     "output_type": "error",
     "traceback": [
      "\u001B[0;31m---------------------------------------------------------------------------\u001B[0m",
      "\u001B[0;31mException\u001B[0m                                 Traceback (most recent call last)",
      "\u001B[0;32m<ipython-input-16-1da72421972c>\u001B[0m in \u001B[0;36m<module>\u001B[0;34m\u001B[0m\n\u001B[0;32m----> 1\u001B[0;31m \u001B[0;32mraise\u001B[0m \u001B[0mException\u001B[0m\u001B[0;34m(\u001B[0m\u001B[0;34m\"Something bad happened\"\u001B[0m\u001B[0;34m)\u001B[0m\u001B[0;34m\u001B[0m\u001B[0;34m\u001B[0m\u001B[0m\n\u001B[0m",
      "\u001B[0;31mException\u001B[0m: Something bad happened"
     ]
    }
   ],
   "source": [
    "raise Exception(\"Something bad happened\")"
   ]
  },
  {
   "cell_type": "markdown",
   "metadata": {},
   "source": [
    "You can also create your own Exception types.\n",
    "\n",
    "This will make more sense when we cover Classes next session\n",
    "\n",
    "but here's a sneak peek\n",
    "\n"
   ]
  },
  {
   "cell_type": "code",
   "execution_count": 17,
   "metadata": {},
   "outputs": [
    {
     "ename": "SocialDistanceError",
     "evalue": "Stay 6 feet away, not 4",
     "output_type": "error",
     "traceback": [
      "\u001B[0;31m---------------------------------------------------------------------------\u001B[0m",
      "\u001B[0;31mSocialDistanceError\u001B[0m                       Traceback (most recent call last)",
      "\u001B[0;32m<ipython-input-17-da2b2ad6c2bd>\u001B[0m in \u001B[0;36m<module>\u001B[0;34m\u001B[0m\n\u001B[1;32m      7\u001B[0m \u001B[0;34m\u001B[0m\u001B[0m\n\u001B[1;32m      8\u001B[0m \u001B[0;32mif\u001B[0m \u001B[0mdistance_feet\u001B[0m \u001B[0;34m<\u001B[0m \u001B[0;36m6\u001B[0m\u001B[0;34m:\u001B[0m\u001B[0;34m\u001B[0m\u001B[0;34m\u001B[0m\u001B[0m\n\u001B[0;32m----> 9\u001B[0;31m     \u001B[0;32mraise\u001B[0m \u001B[0mSocialDistanceError\u001B[0m\u001B[0;34m(\u001B[0m\u001B[0mdistance_feet\u001B[0m\u001B[0;34m)\u001B[0m\u001B[0;34m\u001B[0m\u001B[0;34m\u001B[0m\u001B[0m\n\u001B[0m",
      "\u001B[0;31mSocialDistanceError\u001B[0m: Stay 6 feet away, not 4"
     ]
    }
   ],
   "source": [
    "\n",
    "class SocialDistanceError(Exception):\n",
    "    def __init__(self, distance):\n",
    "        super().__init__(f\"Stay 6 feet away, not {distance}\")\n",
    "\n",
    "\n",
    "distance_feet = 4\n",
    "\n",
    "if distance_feet < 6:\n",
    "    raise SocialDistanceError(distance_feet)\n"
   ]
  },
  {
   "cell_type": "code",
   "execution_count": null,
   "metadata": {},
   "outputs": [],
   "source": []
  }
 ],
 "metadata": {
  "file_extension": ".py",
  "kernelspec": {
   "display_name": "Python 3",
   "language": "python",
   "name": "python3"
  },
  "language_info": {
   "codemirror_mode": {
    "name": "ipython",
    "version": 3
   },
   "file_extension": ".py",
   "mimetype": "text/x-python",
   "name": "python",
   "nbconvert_exporter": "python",
   "pygments_lexer": "ipython3",
   "version": "3.8.3"
  },
  "mimetype": "text/x-python",
  "name": "python",
  "npconvert_exporter": "python",
  "pygments_lexer": "ipython3",
  "version": 3
 },
 "nbformat": 4,
 "nbformat_minor": 2
}